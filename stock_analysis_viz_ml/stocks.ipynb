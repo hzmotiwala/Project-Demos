{
 "cells": [
  {
   "cell_type": "code",
   "execution_count": 10,
   "id": "b6ec3c5b-e589-45d5-81c9-4d02be2a6bda",
   "metadata": {},
   "outputs": [
    {
     "name": "stderr",
     "output_type": "stream",
     "text": [
      "[*********************100%%**********************]  4 of 4 completed"
     ]
    },
    {
     "name": "stdout",
     "output_type": "stream",
     "text": [
      "Price       Adj Close                                        Close             \\\n",
      "Ticker           AAPL       AMZN      GOOGL        MSFT       AAPL       AMZN   \n",
      "Date                                                                            \n",
      "2020-01-02  73.059418  94.900497  68.433998  154.779510  75.087502  94.900497   \n",
      "2020-01-03  72.349144  93.748497  68.075996  152.852249  74.357498  93.748497   \n",
      "2020-01-06  72.925644  95.143997  69.890503  153.247345  74.949997  95.143997   \n",
      "2020-01-07  72.582672  95.343002  69.755501  151.850082  74.597504  95.343002   \n",
      "2020-01-08  73.750244  94.598503  70.251999  154.268829  75.797501  94.598503   \n",
      "\n",
      "Price                                   High             ...        Low  \\\n",
      "Ticker          GOOGL        MSFT       AAPL       AMZN  ...      GOOGL   \n",
      "Date                                                     ...              \n",
      "2020-01-02  68.433998  160.619995  75.150002  94.900497  ...  67.324501   \n",
      "2020-01-03  68.075996  158.619995  75.144997  94.309998  ...  67.365997   \n",
      "2020-01-06  69.890503  159.029999  74.989998  95.184502  ...  67.550003   \n",
      "2020-01-07  69.755501  157.580002  75.224998  95.694504  ...  69.578003   \n",
      "2020-01-08  70.251999  160.089996  76.110001  95.550003  ...  69.631500   \n",
      "\n",
      "Price                        Open                                    \\\n",
      "Ticker            MSFT       AAPL       AMZN      GOOGL        MSFT   \n",
      "Date                                                                  \n",
      "2020-01-02  158.330002  74.059998  93.750000  67.420502  158.779999   \n",
      "2020-01-03  158.059998  74.287498  93.224998  67.400002  158.320007   \n",
      "2020-01-06  156.509995  73.447502  93.000000  67.581497  157.080002   \n",
      "2020-01-07  157.320007  74.959999  95.224998  70.023003  159.320007   \n",
      "2020-01-08  157.949997  74.290001  94.902000  69.740997  158.929993   \n",
      "\n",
      "Price          Volume                                \n",
      "Ticker           AAPL      AMZN     GOOGL      MSFT  \n",
      "Date                                                 \n",
      "2020-01-02  135480400  80580000  27278000  22622100  \n",
      "2020-01-03  146322800  75288000  23408000  21116200  \n",
      "2020-01-06  118387200  81236000  46768000  20813700  \n",
      "2020-01-07  108872000  80898000  34330000  21634100  \n",
      "2020-01-08  132079200  70160000  35314000  27746500  \n",
      "\n",
      "[5 rows x 24 columns]\n"
     ]
    },
    {
     "name": "stderr",
     "output_type": "stream",
     "text": [
      "\n"
     ]
    }
   ],
   "source": [
    "import pandas as pd\n",
    "import numpy as np\n",
    "import yfinance as yf\n",
    "\n",
    "# List of ticker symbols for selected companies\n",
    "ticker_symbols = ['AAPL', 'GOOGL', 'MSFT', 'AMZN']\n",
    "\n",
    "# Download historical data for each company\n",
    "data = yf.download(ticker_symbols, start='2020-01-01', end='2022-01-01')\n",
    "\n",
    "# Display the first few rows of the data\n",
    "print(data.head())\n"
   ]
  },
  {
   "cell_type": "code",
   "execution_count": 11,
   "id": "3bd1f4f4-9984-4bf8-b9d5-2adecbaa105b",
   "metadata": {},
   "outputs": [
    {
     "name": "stdout",
     "output_type": "stream",
     "text": [
      "Ticker          AAPL      AMZN     GOOGL      MSFT\n",
      "Date                                              \n",
      "2020-01-02  1.000000  1.000000  1.000000  1.000000\n",
      "2020-01-03  0.990278  0.987861  0.994769  0.987548\n",
      "2020-01-04  0.990278  0.987861  0.994769  0.987548\n",
      "2020-01-05  0.990278  0.987861  0.994769  0.987548\n",
      "2020-01-06  0.998169  1.002566  1.021283  0.990101\n"
     ]
    }
   ],
   "source": [
    "# Handle missing values\n",
    "data = data.dropna()\n",
    "\n",
    "# Adjust for stock splits and dividends\n",
    "data = data['Adj Close']  # We'll work with adjusted closing prices\n",
    "data = data.pct_change().fillna(0) + 1  # Calculate daily returns\n",
    "data = data.cumprod()  # Convert returns to cumulative returns\n",
    "\n",
    "# Align the data across different time periods\n",
    "data = data.resample('D').last()  # Resample data to daily frequency and keep the last observation\n",
    "data = data.ffill()  # Forward fill missing values\n",
    "\n",
    "# Display the preprocessed data\n",
    "print(data.head())\n"
   ]
  },
  {
   "cell_type": "code",
   "execution_count": 14,
   "id": "12a9b781-6560-4234-b006-17e9968badf4",
   "metadata": {},
   "outputs": [
    {
     "name": "stdout",
     "output_type": "stream",
     "text": [
      "Moving Averages:\n",
      "Ticker      AAPL  AMZN  GOOGL  MSFT\n",
      "Date                               \n",
      "2020-01-02   NaN   NaN    NaN   NaN\n",
      "2020-01-03   NaN   NaN    NaN   NaN\n",
      "2020-01-04   NaN   NaN    NaN   NaN\n",
      "2020-01-05   NaN   NaN    NaN   NaN\n",
      "2020-01-06   NaN   NaN    NaN   NaN\n",
      "\n",
      "RSI:\n",
      "Ticker      AAPL  AMZN  GOOGL  MSFT\n",
      "Date                               \n",
      "2020-01-02   NaN   NaN    NaN   NaN\n",
      "2020-01-03   NaN   NaN    NaN   NaN\n",
      "2020-01-04   NaN   NaN    NaN   NaN\n",
      "2020-01-05   NaN   NaN    NaN   NaN\n",
      "2020-01-06   NaN   NaN    NaN   NaN\n"
     ]
    }
   ],
   "source": [
    "# Calculate moving averages\n",
    "moving_averages = data.rolling(window=50).mean()  # 50-day moving average\n",
    "\n",
    "# Calculate the RSI\n",
    "delta = data.diff()\n",
    "gain = (delta.where(delta > 0, 0)).rolling(window=14).mean()\n",
    "loss = (-delta.where(delta < 0, 0)).rolling(window=14).mean()\n",
    "rs = gain / loss\n",
    "rsi = 100 - (100 / (1 + rs))\n",
    "\n",
    "# Display the moving averages and RSI\n",
    "print(\"Moving Averages:\")\n",
    "print(moving_averages.head())\n",
    "print(\"\\nRSI:\")\n",
    "print(rsi.head())\n"
   ]
  },
  {
   "cell_type": "code",
   "execution_count": 16,
   "id": "07963220-f450-47f2-870e-fda17ee01bd4",
   "metadata": {},
   "outputs": [
    {
     "name": "stderr",
     "output_type": "stream",
     "text": [
      "[*********************100%%**********************]  4 of 4 completed"
     ]
    },
    {
     "name": "stdout",
     "output_type": "stream",
     "text": [
      "Price       Adj Close                                        Close             \\\n",
      "Ticker           AAPL       AMZN      GOOGL        MSFT       AAPL       AMZN   \n",
      "Date                                                                            \n",
      "2020-01-02  73.059418  94.900497  68.433998  154.779510  75.087502  94.900497   \n",
      "2020-01-03  72.349144  93.748497  68.075996  152.852249  74.357498  93.748497   \n",
      "2020-01-06  72.925644  95.143997  69.890503  153.247345  74.949997  95.143997   \n",
      "2020-01-07  72.582672  95.343002  69.755501  151.850082  74.597504  95.343002   \n",
      "2020-01-08  73.750244  94.598503  70.251999  154.268829  75.797501  94.598503   \n",
      "\n",
      "Price                                   High             ...        Low  \\\n",
      "Ticker          GOOGL        MSFT       AAPL       AMZN  ...      GOOGL   \n",
      "Date                                                     ...              \n",
      "2020-01-02  68.433998  160.619995  75.150002  94.900497  ...  67.324501   \n",
      "2020-01-03  68.075996  158.619995  75.144997  94.309998  ...  67.365997   \n",
      "2020-01-06  69.890503  159.029999  74.989998  95.184502  ...  67.550003   \n",
      "2020-01-07  69.755501  157.580002  75.224998  95.694504  ...  69.578003   \n",
      "2020-01-08  70.251999  160.089996  76.110001  95.550003  ...  69.631500   \n",
      "\n",
      "Price                        Open                                    \\\n",
      "Ticker            MSFT       AAPL       AMZN      GOOGL        MSFT   \n",
      "Date                                                                  \n",
      "2020-01-02  158.330002  74.059998  93.750000  67.420502  158.779999   \n",
      "2020-01-03  158.059998  74.287498  93.224998  67.400002  158.320007   \n",
      "2020-01-06  156.509995  73.447502  93.000000  67.581497  157.080002   \n",
      "2020-01-07  157.320007  74.959999  95.224998  70.023003  159.320007   \n",
      "2020-01-08  157.949997  74.290001  94.902000  69.740997  158.929993   \n",
      "\n",
      "Price          Volume                                \n",
      "Ticker           AAPL      AMZN     GOOGL      MSFT  \n",
      "Date                                                 \n",
      "2020-01-02  135480400  80580000  27278000  22622100  \n",
      "2020-01-03  146322800  75288000  23408000  21116200  \n",
      "2020-01-06  118387200  81236000  46768000  20813700  \n",
      "2020-01-07  108872000  80898000  34330000  21634100  \n",
      "2020-01-08  132079200  70160000  35314000  27746500  \n",
      "\n",
      "[5 rows x 24 columns]\n",
      "Preprocessed Data:\n",
      "Ticker          AAPL      AMZN     GOOGL      MSFT\n",
      "Date                                              \n",
      "2020-01-02  1.000000  1.000000  1.000000  1.000000\n",
      "2020-01-03  0.990278  0.987861  0.994769  0.987548\n",
      "2020-01-04  0.990278  0.987861  0.994769  0.987548\n",
      "2020-01-05  0.990278  0.987861  0.994769  0.987548\n",
      "2020-01-06  0.998169  1.002566  1.021283  0.990101\n",
      "\n",
      "Moving Averages:\n",
      "Ticker            AAPL        AMZN      GOOGL        MSFT\n",
      "Date                                                     \n",
      "2021-12-27  157.528575  172.938471  145.12588  323.022839\n",
      "2021-12-28  158.213092  172.942671  145.23226  323.761222\n",
      "2021-12-29  158.865666  172.879951  145.30980  324.452972\n",
      "2021-12-30  159.451353  172.808690  145.36907  325.074641\n",
      "2021-12-31  160.014739  172.727970  145.43073  325.653464\n",
      "\n",
      "RSI:\n",
      "Ticker           AAPL       AMZN      GOOGL       MSFT\n",
      "Date                                                  \n",
      "2021-12-27  66.534438  47.169269  60.022362  60.439183\n",
      "2021-12-28  59.995033  39.499326  48.600386  54.498907\n",
      "2021-12-29  55.848749  37.423621  46.156750  54.915485\n",
      "2021-12-30  54.863704  39.464696  46.374350  54.333946\n",
      "2021-12-31  47.165301  39.512141  42.435104  45.238784\n"
     ]
    },
    {
     "name": "stderr",
     "output_type": "stream",
     "text": [
      "\n"
     ]
    }
   ],
   "source": [
    "import pandas as pd\n",
    "import numpy as np\n",
    "import yfinance as yf\n",
    "\n",
    "# List of ticker symbols for selected companies\n",
    "ticker_symbols = ['AAPL', 'GOOGL', 'MSFT', 'AMZN']\n",
    "\n",
    "# Download historical data for each company\n",
    "data = yf.download(ticker_symbols, start='2020-01-01', end='2022-01-01')\n",
    "\n",
    "# Display the first few rows of the data\n",
    "print(data.head())\n",
    "\n",
    "# Handle missing values\n",
    "data = data.dropna()\n",
    "\n",
    "# Adjust for stock splits and dividends\n",
    "data_adj_close = data['Adj Close']  # We'll work with adjusted closing prices\n",
    "data_returns = data_adj_close.pct_change().fillna(0) + 1  # Calculate daily returns\n",
    "data_cum_returns = data_returns.cumprod()  # Convert returns to cumulative returns\n",
    "\n",
    "# Align the data across different time periods\n",
    "data_cum_returns = data_cum_returns.resample('D').last()  # Resample data to daily frequency and keep the last observation\n",
    "data_cum_returns = data_cum_returns.ffill()  # Forward fill missing values\n",
    "\n",
    "# Calculate moving averages\n",
    "moving_averages = data_adj_close.rolling(window=50).mean()  # 50-day moving average\n",
    "\n",
    "# Calculate the RSI\n",
    "delta = data_adj_close.diff()\n",
    "gain = (delta.where(delta > 0, 0)).rolling(window=14).mean()\n",
    "loss = (-delta.where(delta < 0, 0)).rolling(window=14).mean()\n",
    "rs = gain / loss\n",
    "rsi = 100 - (100 / (1 + rs))\n",
    "\n",
    "# Display the preprocessed data, moving averages, and RSI\n",
    "print(\"Preprocessed Data:\")\n",
    "print(data_cum_returns.head())\n",
    "print(\"\\nMoving Averages:\")\n",
    "print(moving_averages.tail())\n",
    "print(\"\\nRSI:\")\n",
    "print(rsi.tail())\n"
   ]
  },
  {
   "cell_type": "code",
   "execution_count": null,
   "id": "49eaefe4-7518-4761-8e39-598108062718",
   "metadata": {},
   "outputs": [],
   "source": []
  }
 ],
 "metadata": {
  "kernelspec": {
   "display_name": "Python 3 (ipykernel)",
   "language": "python",
   "name": "python3"
  },
  "language_info": {
   "codemirror_mode": {
    "name": "ipython",
    "version": 3
   },
   "file_extension": ".py",
   "mimetype": "text/x-python",
   "name": "python",
   "nbconvert_exporter": "python",
   "pygments_lexer": "ipython3",
   "version": "3.12.1"
  }
 },
 "nbformat": 4,
 "nbformat_minor": 5
}
