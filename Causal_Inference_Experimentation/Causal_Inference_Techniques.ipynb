{
 "cells": [
  {
   "cell_type": "markdown",
   "id": "ddc2888a-d0d3-450a-81f1-d61c6bbfb351",
   "metadata": {},
   "source": [
    "### Unveiling Causal Inference Techniques: A Guide for Data Scientists\n",
    "In data science, understanding causality is crucial for making accurate predictions and taking effective actions. \n",
    "However, inferring causality from observational data can be a complex and challenging task. \n",
    "This post explores several causal inference techniques for when running a Randomize Controlled Test isn't feasible."
   ]
  },
  {
   "cell_type": "markdown",
   "id": "94c9c18f-709a-4b02-903a-1a57edf15e4d",
   "metadata": {},
   "source": [
    "#### Problem Statement:\n",
    "Facebook has introduced a new feature called \"Daily Stories\" that highlights trending posts and stories personalized for each user. The goal is to evaluate whether this new feature increases overall user engagement on the platform.\n",
    "\n",
    "#### Approach:\n",
    "We will use a combination of Diff-in-Diff (DiD), Propensity Score Matching (PSM), and Matched Pairs techniques to analyze the causal impact of the new feature on user engagement."
   ]
  },
  {
   "cell_type": "code",
   "execution_count": 1,
   "id": "27689d8b-c4ce-492f-961f-52a77f889ea9",
   "metadata": {},
   "outputs": [
    {
     "data": {
      "text/html": [
       "<div>\n",
       "<style scoped>\n",
       "    .dataframe tbody tr th:only-of-type {\n",
       "        vertical-align: middle;\n",
       "    }\n",
       "\n",
       "    .dataframe tbody tr th {\n",
       "        vertical-align: top;\n",
       "    }\n",
       "\n",
       "    .dataframe thead th {\n",
       "        text-align: right;\n",
       "    }\n",
       "</style>\n",
       "<table border=\"1\" class=\"dataframe\">\n",
       "  <thead>\n",
       "    <tr style=\"text-align: right;\">\n",
       "      <th></th>\n",
       "      <th>user_id</th>\n",
       "      <th>age</th>\n",
       "      <th>gender</th>\n",
       "      <th>region</th>\n",
       "      <th>prior_engagement</th>\n",
       "      <th>treatment</th>\n",
       "      <th>engagement_pre</th>\n",
       "      <th>engagement_post</th>\n",
       "    </tr>\n",
       "  </thead>\n",
       "  <tbody>\n",
       "    <tr>\n",
       "      <th>0</th>\n",
       "      <td>1</td>\n",
       "      <td>56</td>\n",
       "      <td>Male</td>\n",
       "      <td>North America</td>\n",
       "      <td>45.172565</td>\n",
       "      <td>1</td>\n",
       "      <td>35.633527</td>\n",
       "      <td>36.787741</td>\n",
       "    </tr>\n",
       "    <tr>\n",
       "      <th>1</th>\n",
       "      <td>2</td>\n",
       "      <td>46</td>\n",
       "      <td>Male</td>\n",
       "      <td>North America</td>\n",
       "      <td>40.466714</td>\n",
       "      <td>1</td>\n",
       "      <td>36.164789</td>\n",
       "      <td>38.835311</td>\n",
       "    </tr>\n",
       "    <tr>\n",
       "      <th>2</th>\n",
       "      <td>3</td>\n",
       "      <td>32</td>\n",
       "      <td>Female</td>\n",
       "      <td>South America</td>\n",
       "      <td>51.226703</td>\n",
       "      <td>0</td>\n",
       "      <td>49.158675</td>\n",
       "      <td>40.180460</td>\n",
       "    </tr>\n",
       "    <tr>\n",
       "      <th>3</th>\n",
       "      <td>4</td>\n",
       "      <td>25</td>\n",
       "      <td>Female</td>\n",
       "      <td>North America</td>\n",
       "      <td>66.246785</td>\n",
       "      <td>0</td>\n",
       "      <td>75.685223</td>\n",
       "      <td>74.034772</td>\n",
       "    </tr>\n",
       "    <tr>\n",
       "      <th>4</th>\n",
       "      <td>5</td>\n",
       "      <td>38</td>\n",
       "      <td>Male</td>\n",
       "      <td>South America</td>\n",
       "      <td>53.230793</td>\n",
       "      <td>1</td>\n",
       "      <td>56.013558</td>\n",
       "      <td>61.943987</td>\n",
       "    </tr>\n",
       "  </tbody>\n",
       "</table>\n",
       "</div>"
      ],
      "text/plain": [
       "   user_id  age  gender         region  prior_engagement  treatment  \\\n",
       "0        1   56    Male  North America         45.172565          1   \n",
       "1        2   46    Male  North America         40.466714          1   \n",
       "2        3   32  Female  South America         51.226703          0   \n",
       "3        4   25  Female  North America         66.246785          0   \n",
       "4        5   38    Male  South America         53.230793          1   \n",
       "\n",
       "   engagement_pre  engagement_post  \n",
       "0       35.633527        36.787741  \n",
       "1       36.164789        38.835311  \n",
       "2       49.158675        40.180460  \n",
       "3       75.685223        74.034772  \n",
       "4       56.013558        61.943987  "
      ]
     },
     "execution_count": 1,
     "metadata": {},
     "output_type": "execute_result"
    }
   ],
   "source": [
    "import pandas as pd\n",
    "import numpy as np\n",
    "import matplotlib.pyplot as plt\n",
    "import seaborn as sns\n",
    "from sklearn.linear_model import LogisticRegression\n",
    "from sklearn.model_selection import train_test_split\n",
    "from sklearn.neighbors import NearestNeighbors\n",
    "\n",
    "# Set random seed for reproducibility\n",
    "np.random.seed(42)\n",
    "\n",
    "# Generate dummy data\n",
    "n_users = 1000\n",
    "users = pd.DataFrame({\n",
    "    'user_id': range(1, n_users + 1),\n",
    "    'age': np.random.randint(18, 60, size=n_users),\n",
    "    'gender': np.random.choice(['Male', 'Female'], size=n_users),\n",
    "    'region': np.random.choice(['North America', 'Europe', 'Asia', 'South America', 'Africa'], size=n_users),\n",
    "    'prior_engagement': np.random.normal(50, 10, size=n_users)  # Prior engagement score\n",
    "})\n",
    "\n",
    "# Assign treatment (new feature)\n",
    "users['treatment'] = np.random.choice([0, 1], size=n_users)\n",
    "\n",
    "# Generate engagement scores before and after the feature launch\n",
    "users['engagement_pre'] = users['prior_engagement'] + np.random.normal(0, 5, size=n_users)\n",
    "users['engagement_post'] = users['engagement_pre'] + users['treatment'] * np.random.normal(5, 2, size=n_users) + np.random.normal(0, 5, size=n_users)\n",
    "\n",
    "# Check the generated data\n",
    "users.head()"
   ]
  },
  {
   "cell_type": "markdown",
   "id": "66938064-363c-46f7-9afb-d3ee3579631f",
   "metadata": {},
   "source": [
    "### Exploratory Data Analysis (EDA)"
   ]
  },
  {
   "cell_type": "code",
   "execution_count": 2,
   "id": "2a57fa86-6d2e-4eee-9086-0e68af4ad568",
   "metadata": {},
   "outputs": [
    {
     "data": {
      "text/html": [
       "<div>\n",
       "<style scoped>\n",
       "    .dataframe tbody tr th:only-of-type {\n",
       "        vertical-align: middle;\n",
       "    }\n",
       "\n",
       "    .dataframe tbody tr th {\n",
       "        vertical-align: top;\n",
       "    }\n",
       "\n",
       "    .dataframe thead th {\n",
       "        text-align: right;\n",
       "    }\n",
       "</style>\n",
       "<table border=\"1\" class=\"dataframe\">\n",
       "  <thead>\n",
       "    <tr style=\"text-align: right;\">\n",
       "      <th></th>\n",
       "      <th>user_id</th>\n",
       "      <th>age</th>\n",
       "      <th>prior_engagement</th>\n",
       "      <th>treatment</th>\n",
       "      <th>engagement_pre</th>\n",
       "      <th>engagement_post</th>\n",
       "    </tr>\n",
       "  </thead>\n",
       "  <tbody>\n",
       "    <tr>\n",
       "      <th>count</th>\n",
       "      <td>1000.000000</td>\n",
       "      <td>1000.000000</td>\n",
       "      <td>1000.000000</td>\n",
       "      <td>1000.000000</td>\n",
       "      <td>1000.000000</td>\n",
       "      <td>1000.000000</td>\n",
       "    </tr>\n",
       "    <tr>\n",
       "      <th>mean</th>\n",
       "      <td>500.500000</td>\n",
       "      <td>38.745000</td>\n",
       "      <td>50.221511</td>\n",
       "      <td>0.517000</td>\n",
       "      <td>50.127915</td>\n",
       "      <td>52.429893</td>\n",
       "    </tr>\n",
       "    <tr>\n",
       "      <th>std</th>\n",
       "      <td>288.819436</td>\n",
       "      <td>12.186734</td>\n",
       "      <td>9.781775</td>\n",
       "      <td>0.499961</td>\n",
       "      <td>11.156344</td>\n",
       "      <td>12.389370</td>\n",
       "    </tr>\n",
       "    <tr>\n",
       "      <th>min</th>\n",
       "      <td>1.000000</td>\n",
       "      <td>18.000000</td>\n",
       "      <td>19.804878</td>\n",
       "      <td>0.000000</td>\n",
       "      <td>16.768106</td>\n",
       "      <td>16.937620</td>\n",
       "    </tr>\n",
       "    <tr>\n",
       "      <th>25%</th>\n",
       "      <td>250.750000</td>\n",
       "      <td>28.000000</td>\n",
       "      <td>43.726462</td>\n",
       "      <td>0.000000</td>\n",
       "      <td>42.480613</td>\n",
       "      <td>44.120359</td>\n",
       "    </tr>\n",
       "    <tr>\n",
       "      <th>50%</th>\n",
       "      <td>500.500000</td>\n",
       "      <td>40.000000</td>\n",
       "      <td>50.048989</td>\n",
       "      <td>1.000000</td>\n",
       "      <td>50.428767</td>\n",
       "      <td>52.565314</td>\n",
       "    </tr>\n",
       "    <tr>\n",
       "      <th>75%</th>\n",
       "      <td>750.250000</td>\n",
       "      <td>50.000000</td>\n",
       "      <td>56.741148</td>\n",
       "      <td>1.000000</td>\n",
       "      <td>57.232341</td>\n",
       "      <td>60.585365</td>\n",
       "    </tr>\n",
       "    <tr>\n",
       "      <th>max</th>\n",
       "      <td>1000.000000</td>\n",
       "      <td>59.000000</td>\n",
       "      <td>81.931076</td>\n",
       "      <td>1.000000</td>\n",
       "      <td>88.560059</td>\n",
       "      <td>92.227798</td>\n",
       "    </tr>\n",
       "  </tbody>\n",
       "</table>\n",
       "</div>"
      ],
      "text/plain": [
       "           user_id          age  prior_engagement    treatment  \\\n",
       "count  1000.000000  1000.000000       1000.000000  1000.000000   \n",
       "mean    500.500000    38.745000         50.221511     0.517000   \n",
       "std     288.819436    12.186734          9.781775     0.499961   \n",
       "min       1.000000    18.000000         19.804878     0.000000   \n",
       "25%     250.750000    28.000000         43.726462     0.000000   \n",
       "50%     500.500000    40.000000         50.048989     1.000000   \n",
       "75%     750.250000    50.000000         56.741148     1.000000   \n",
       "max    1000.000000    59.000000         81.931076     1.000000   \n",
       "\n",
       "       engagement_pre  engagement_post  \n",
       "count     1000.000000      1000.000000  \n",
       "mean        50.127915        52.429893  \n",
       "std         11.156344        12.389370  \n",
       "min         16.768106        16.937620  \n",
       "25%         42.480613        44.120359  \n",
       "50%         50.428767        52.565314  \n",
       "75%         57.232341        60.585365  \n",
       "max         88.560059        92.227798  "
      ]
     },
     "execution_count": 2,
     "metadata": {},
     "output_type": "execute_result"
    }
   ],
   "source": [
    "# Summary statistics\n",
    "users.describe()"
   ]
  },
  {
   "cell_type": "code",
   "execution_count": 3,
   "id": "d7456bed-1949-49cd-9fe1-1a3ae298f338",
   "metadata": {},
   "outputs": [
    {
     "data": {
      "image/png": "[encoded data removed]",
      "text/plain": [
       "<Figure size 640x480 with 1 Axes>"
      ]
     },
     "metadata": {},
     "output_type": "display_data"
    }
   ],
   "source": [
    "# Distribution of age\n",
    "sns.histplot(users['age'], kde=True)\n",
    "plt.title('Distribution of Age')\n",
    "plt.show()"
   ]
  },
  {
   "cell_type": "code",
   "execution_count": 4,
   "id": "ad89f223-35fc-4de9-a7c3-12f3d6b29974",
   "metadata": {},
   "outputs": [
    {
     "data": {
      "image/png": "[encoded data removed]",
      "text/plain": [
       "<Figure size 1000x500 with 2 Axes>"
      ]
     },
     "metadata": {},
     "output_type": "display_data"
    }
   ],
   "source": [
    "# Create a figure with two subplots\n",
    "fig, axes = plt.subplots(1, 2, figsize=(10, 5))\n",
    "\n",
    "# Engagement Pre-treatment\n",
    "sns.boxplot(x='treatment', y='engagement_pre', data=users, ax=axes[0])\n",
    "axes[0].set_title('Engagement Pre-treatment')\n",
    "\n",
    "# Engagement Post-treatment\n",
    "sns.boxplot(x='treatment', y='engagement_post', data=users, ax=axes[1])\n",
    "axes[1].set_title('Engagement Post-treatment')\n",
    "\n",
    "# Display the plots\n",
    "plt.tight_layout()\n",
    "plt.show()"
   ]
  },
  {
   "cell_type": "markdown",
   "id": "5681ee5e-909a-4f03-a11b-73ff376e71ee",
   "metadata": {},
   "source": [
    "### Propensity Score Matching (PSM)\n",
    "Helps to identify a balanced comparison of users by estimating the probability of a user receiving the treatment based on observed characteristics."
   ]
  },
  {
   "cell_type": "code",
   "execution_count": 5,
   "id": "042559e8-d23a-4e33-8a9b-a6cb4272e5fd",
   "metadata": {},
   "outputs": [
    {
     "data": {
      "text/html": [
       "<div>\n",
       "<style scoped>\n",
       "    .dataframe tbody tr th:only-of-type {\n",
       "        vertical-align: middle;\n",
       "    }\n",
       "\n",
       "    .dataframe tbody tr th {\n",
       "        vertical-align: top;\n",
       "    }\n",
       "\n",
       "    .dataframe thead th {\n",
       "        text-align: right;\n",
       "    }\n",
       "</style>\n",
       "<table border=\"1\" class=\"dataframe\">\n",
       "  <thead>\n",
       "    <tr style=\"text-align: right;\">\n",
       "      <th></th>\n",
       "      <th>user_id</th>\n",
       "      <th>age</th>\n",
       "      <th>prior_engagement</th>\n",
       "      <th>treatment</th>\n",
       "      <th>engagement_pre</th>\n",
       "      <th>engagement_post</th>\n",
       "      <th>gender_Male</th>\n",
       "      <th>region_Asia</th>\n",
       "      <th>region_Europe</th>\n",
       "      <th>region_North America</th>\n",
       "      <th>region_South America</th>\n",
       "    </tr>\n",
       "  </thead>\n",
       "  <tbody>\n",
       "    <tr>\n",
       "      <th>0</th>\n",
       "      <td>1</td>\n",
       "      <td>56</td>\n",
       "      <td>45.172565</td>\n",
       "      <td>1</td>\n",
       "      <td>35.633527</td>\n",
       "      <td>36.787741</td>\n",
       "      <td>True</td>\n",
       "      <td>False</td>\n",
       "      <td>False</td>\n",
       "      <td>True</td>\n",
       "      <td>False</td>\n",
       "    </tr>\n",
       "    <tr>\n",
       "      <th>1</th>\n",
       "      <td>2</td>\n",
       "      <td>46</td>\n",
       "      <td>40.466714</td>\n",
       "      <td>1</td>\n",
       "      <td>36.164789</td>\n",
       "      <td>38.835311</td>\n",
       "      <td>True</td>\n",
       "      <td>False</td>\n",
       "      <td>False</td>\n",
       "      <td>True</td>\n",
       "      <td>False</td>\n",
       "    </tr>\n",
       "  </tbody>\n",
       "</table>\n",
       "</div>"
      ],
      "text/plain": [
       "   user_id  age  prior_engagement  treatment  engagement_pre  engagement_post  \\\n",
       "0        1   56         45.172565          1       35.633527        36.787741   \n",
       "1        2   46         40.466714          1       36.164789        38.835311   \n",
       "\n",
       "   gender_Male  region_Asia  region_Europe  region_North America  \\\n",
       "0         True        False          False                  True   \n",
       "1         True        False          False                  True   \n",
       "\n",
       "   region_South America  \n",
       "0                 False  \n",
       "1                 False  "
      ]
     },
     "execution_count": 5,
     "metadata": {},
     "output_type": "execute_result"
    }
   ],
   "source": [
    "# Encode categorical variables\n",
    "users_encoded = pd.get_dummies(users, columns=['gender', 'region'], drop_first=True)\n",
    "users_encoded.head(2)"
   ]
  },
  {
   "cell_type": "code",
   "execution_count": 6,
   "id": "4ce6928f-883c-426d-9935-9dfd3b36d2a2",
   "metadata": {},
   "outputs": [],
   "source": [
    "# Estimate propensity scores\n",
    "X = users_encoded[['age', 'gender_Male', 'region_Europe', 'region_Asia', 'region_South America', 'prior_engagement']]\n",
    "y = users_encoded['treatment']\n",
    "\n",
    "X_train, X_test, y_train, y_test = train_test_split(X, y, test_size=0.3, random_state=42)\n",
    "log_reg = LogisticRegression()\n",
    "log_reg.fit(X_train, y_train)\n",
    "\n",
    "# Predict propensity scores\n",
    "users['propensity_score'] = log_reg.predict_proba(X)[:, 1]"
   ]
  },
  {
   "cell_type": "code",
   "execution_count": 7,
   "id": "70f0b9ba-d939-419d-9313-4243ebf117e9",
   "metadata": {},
   "outputs": [
    {
     "data": {
      "image/png": "[encoded data removed]",
      "text/plain": [
       "<Figure size 640x480 with 1 Axes>"
      ]
     },
     "metadata": {},
     "output_type": "display_data"
    },
    {
     "data": {
      "image/png": "[encoded data removed]",
      "text/plain": [
       "<Figure size 640x480 with 1 Axes>"
      ]
     },
     "metadata": {},
     "output_type": "display_data"
    }
   ],
   "source": [
    "# Matching using Nearest Neighbors\n",
    "treated = users[users['treatment'] == 1]\n",
    "control = users[users['treatment'] == 0]\n",
    "\n",
    "nn = NearestNeighbors(n_neighbors=1)\n",
    "nn.fit(control[['propensity_score']])\n",
    "\n",
    "distances, indices = nn.kneighbors(treated[['propensity_score']])\n",
    "matched_control_indices = control.iloc[indices.flatten()].index\n",
    "\n",
    "matched_treatment = treated.copy()\n",
    "matched_control = control.loc[matched_control_indices].copy()\n",
    "\n",
    "# Add a column to identify the matched pair\n",
    "matched_treatment['matched_pair'] = range(len(matched_treatment))\n",
    "matched_control['matched_pair'] = range(len(matched_control))\n",
    "\n",
    "# Combine matched pairs into one DataFrame\n",
    "matched_pairs = pd.concat([matched_treatment, matched_control])\n",
    "\n",
    "# Check balance\n",
    "for col in ['age', 'prior_engagement']:\n",
    "    sns.boxplot(x='treatment', y=col, data=matched_pairs)\n",
    "    plt.title(f'Balance Check: {col}')\n",
    "    plt.show()\n"
   ]
  },
  {
   "cell_type": "markdown",
   "id": "61f59823-8f81-48b8-91f9-aeb7f88d6998",
   "metadata": {},
   "source": [
    "This check balance stage is crucial This step is crucial because it helps mitigate the risk of bias due to confounding variables, ensuring that any differences observed in outcomes can be more confidently attributed to the treatment (new feature) rather than to pre-existing differences between groups."
   ]
  },
  {
   "cell_type": "markdown",
   "id": "0484ce56-f197-4b0c-b4b1-8002abe517ec",
   "metadata": {},
   "source": [
    "### Diff-in-Diff Analysis\n",
    "A statistical technique used to estimate the causal effect of a treatment or intervention by comparing the changes in outcomes over time between a treatment group and a control group."
   ]
  },
  {
   "cell_type": "code",
   "execution_count": 8,
   "id": "101b29f3-f05e-45c3-85c1-0ae308e8023d",
   "metadata": {},
   "outputs": [
    {
     "name": "stdout",
     "output_type": "stream",
     "text": [
      "Diff-in-Diff Estimator: 5.344054017744625\n"
     ]
    }
   ],
   "source": [
    "# Calculate pre-post differences\n",
    "matched_pairs['engagement_diff'] = matched_pairs['engagement_post'] - matched_pairs['engagement_pre']\n",
    "\n",
    "# Calculate DiD estimator\n",
    "did_estimator = matched_pairs[matched_pairs['treatment'] == 1]['engagement_diff'].mean() - matched_pairs[matched_pairs['treatment'] == 0]['engagement_diff'].mean()\n",
    "print(f'Diff-in-Diff Estimator: {did_estimator}')\n",
    "\n"
   ]
  },
  {
   "cell_type": "markdown",
   "id": "4e4c694d-fd84-4819-89e4-8dca1e646db2",
   "metadata": {},
   "source": [
    "### Matched Pairs Analysis\n",
    "Matched Pairs is a method of pairing treated and control units that are similar in terms of observed characteristics to reduce confounding bias in causal inference."
   ]
  },
  {
   "cell_type": "code",
   "execution_count": 9,
   "id": "ecc4cb3e-62a4-4398-b56b-90999d019474",
   "metadata": {},
   "outputs": [
    {
     "name": "stdout",
     "output_type": "stream",
     "text": [
      "Matched Pairs Treatment Effect: 4.632239956631055\n"
     ]
    }
   ],
   "source": [
    "# Calculate pairwise differences within matched pairs\n",
    "pairwise_diffs = matched_pairs.groupby('matched_pair').apply(lambda x: x[x['treatment'] == 1]['engagement_post'].values[0] - x[x['treatment'] == 0]['engagement_post'].values[0])\n",
    "\n",
    "# Estimate treatment effect\n",
    "treatment_effect = pairwise_diffs.mean()\n",
    "print(f'Matched Pairs Treatment Effect: {treatment_effect}')\n"
   ]
  }
 ],
 "metadata": {
  "kernelspec": {
   "display_name": "Python 3 (ipykernel)",
   "language": "python",
   "name": "python3"
  },
  "language_info": {
   "codemirror_mode": {
    "name": "ipython",
    "version": 3
   },
   "file_extension": ".py",
   "mimetype": "text/x-python",
   "name": "python",
   "nbconvert_exporter": "python",
   "pygments_lexer": "ipython3",
   "version": "3.12.1"
  }
 },
 "nbformat": 4,
 "nbformat_minor": 5
}
