{
 "cells": [
  {
   "cell_type": "markdown",
   "id": "ddc2888a-d0d3-450a-81f1-d61c6bbfb351",
   "metadata": {},
   "source": [
    "### Unveiling Causal Inference Techniques: A Guide for Data Scientists\n",
    "In data science, understanding causality is crucial for making accurate predictions and taking effective actions. \n",
    "However, inferring causality from observational data can be a complex and challenging task. \n",
    "This post explores several causal inference techniques for when running a Randomize Controlled Test isn't feasible."
   ]
  },
  {
   "cell_type": "markdown",
   "id": "94c9c18f-709a-4b02-903a-1a57edf15e4d",
   "metadata": {},
   "source": [
    "#### Problem Statement:\n",
    "Facebook has introduced a new feature called \"Daily Stories\" that highlights trending posts and stories personalized for each user. The goal is to evaluate whether this new feature increases overall user engagement on the platform.\n",
    "\n",
    "#### Approach:\n",
    "We will use a combination of Diff-in-Diff (DiD), Propensity Score Matching (PSM), and Matched Pairs techniques to analyze the causal impact of the new feature on user engagement."
   ]
  },
  {
   "cell_type": "code",
   "execution_count": 1,
   "id": "27689d8b-c4ce-492f-961f-52a77f889ea9",
   "metadata": {},
   "outputs": [
    {
     "data": {
      "text/html": [
       "<div>\n",
       "<style scoped>\n",
       "    .dataframe tbody tr th:only-of-type {\n",
       "        vertical-align: middle;\n",
       "    }\n",
       "\n",
       "    .dataframe tbody tr th {\n",
       "        vertical-align: top;\n",
       "    }\n",
       "\n",
       "    .dataframe thead th {\n",
       "        text-align: right;\n",
       "    }\n",
       "</style>\n",
       "<table border=\"1\" class=\"dataframe\">\n",
       "  <thead>\n",
       "    <tr style=\"text-align: right;\">\n",
       "      <th></th>\n",
       "      <th>user_id</th>\n",
       "      <th>age</th>\n",
       "      <th>gender</th>\n",
       "      <th>region</th>\n",
       "      <th>prior_engagement</th>\n",
       "      <th>treatment</th>\n",
       "      <th>engagement_pre</th>\n",
       "      <th>engagement_post</th>\n",
       "    </tr>\n",
       "  </thead>\n",
       "  <tbody>\n",
       "    <tr>\n",
       "      <th>0</th>\n",
       "      <td>1</td>\n",
       "      <td>54</td>\n",
       "      <td>Female</td>\n",
       "      <td>South America</td>\n",
       "      <td>47.825700</td>\n",
       "      <td>1</td>\n",
       "      <td>59.729978</td>\n",
       "      <td>56.164603</td>\n",
       "    </tr>\n",
       "    <tr>\n",
       "      <th>1</th>\n",
       "      <td>2</td>\n",
       "      <td>49</td>\n",
       "      <td>Male</td>\n",
       "      <td>North America</td>\n",
       "      <td>49.009599</td>\n",
       "      <td>0</td>\n",
       "      <td>41.911780</td>\n",
       "      <td>40.785871</td>\n",
       "    </tr>\n",
       "    <tr>\n",
       "      <th>2</th>\n",
       "      <td>3</td>\n",
       "      <td>24</td>\n",
       "      <td>Male</td>\n",
       "      <td>Europe</td>\n",
       "      <td>43.677648</td>\n",
       "      <td>1</td>\n",
       "      <td>39.895371</td>\n",
       "      <td>39.418769</td>\n",
       "    </tr>\n",
       "    <tr>\n",
       "      <th>3</th>\n",
       "      <td>4</td>\n",
       "      <td>35</td>\n",
       "      <td>Female</td>\n",
       "      <td>South America</td>\n",
       "      <td>40.218743</td>\n",
       "      <td>1</td>\n",
       "      <td>52.183501</td>\n",
       "      <td>63.909185</td>\n",
       "    </tr>\n",
       "    <tr>\n",
       "      <th>4</th>\n",
       "      <td>5</td>\n",
       "      <td>36</td>\n",
       "      <td>Male</td>\n",
       "      <td>Europe</td>\n",
       "      <td>41.535214</td>\n",
       "      <td>1</td>\n",
       "      <td>49.242820</td>\n",
       "      <td>57.914590</td>\n",
       "    </tr>\n",
       "  </tbody>\n",
       "</table>\n",
       "</div>"
      ],
      "text/plain": [
       "   user_id  age  gender         region  prior_engagement  treatment  \\\n",
       "0        1   54  Female  South America         47.825700          1   \n",
       "1        2   49    Male  North America         49.009599          0   \n",
       "2        3   24    Male         Europe         43.677648          1   \n",
       "3        4   35  Female  South America         40.218743          1   \n",
       "4        5   36    Male         Europe         41.535214          1   \n",
       "\n",
       "   engagement_pre  engagement_post  \n",
       "0       59.729978        56.164603  \n",
       "1       41.911780        40.785871  \n",
       "2       39.895371        39.418769  \n",
       "3       52.183501        63.909185  \n",
       "4       49.242820        57.914590  "
      ]
     },
     "execution_count": 1,
     "metadata": {},
     "output_type": "execute_result"
    }
   ],
   "source": [
    "import pandas as pd\n",
    "import numpy as np\n",
    "import matplotlib.pyplot as plt\n",
    "import seaborn as sns\n",
    "from sklearn.linear_model import LogisticRegression\n",
    "from sklearn.metrics import accuracy_score\n",
    "from sklearn.model_selection import train_test_split\n",
    "\n",
    "# Generate dummy data\n",
    "n_users = 1000\n",
    "users = pd.DataFrame({\n",
    "    'user_id': range(1, n_users + 1),\n",
    "    'age': np.random.randint(18, 60, size=n_users),\n",
    "    'gender': np.random.choice(['Male', 'Female'], size=n_users),\n",
    "    'region': np.random.choice(['North America', 'Europe', 'Asia', 'South America', 'Africa'], size=n_users),\n",
    "    'prior_engagement': np.random.normal(50, 10, size=n_users)  # Prior engagement score\n",
    "})\n",
    "\n",
    "# Assign treatment (new feature)\n",
    "users['treatment'] = np.random.choice([0, 1], size=n_users)\n",
    "\n",
    "# Generate engagement scores before and after the feature launch\n",
    "users['engagement_pre'] = users['prior_engagement'] + np.random.normal(0, 5, size=n_users)\n",
    "users['engagement_post'] = users['engagement_pre'] + users['treatment'] * np.random.normal(5, 2, size=n_users) + np.random.normal(0, 5, size=n_users)\n",
    "\n",
    "# Check the generated data\n",
    "users.head()"
   ]
  },
  {
   "cell_type": "markdown",
   "id": "66938064-363c-46f7-9afb-d3ee3579631f",
   "metadata": {},
   "source": [
    "### Exploratory Data Analysis (EDA)"
   ]
  },
  {
   "cell_type": "code",
   "execution_count": 2,
   "id": "2a57fa86-6d2e-4eee-9086-0e68af4ad568",
   "metadata": {},
   "outputs": [
    {
     "data": {
      "text/html": [
       "<div>\n",
       "<style scoped>\n",
       "    .dataframe tbody tr th:only-of-type {\n",
       "        vertical-align: middle;\n",
       "    }\n",
       "\n",
       "    .dataframe tbody tr th {\n",
       "        vertical-align: top;\n",
       "    }\n",
       "\n",
       "    .dataframe thead th {\n",
       "        text-align: right;\n",
       "    }\n",
       "</style>\n",
       "<table border=\"1\" class=\"dataframe\">\n",
       "  <thead>\n",
       "    <tr style=\"text-align: right;\">\n",
       "      <th></th>\n",
       "      <th>user_id</th>\n",
       "      <th>age</th>\n",
       "      <th>prior_engagement</th>\n",
       "      <th>treatment</th>\n",
       "      <th>engagement_pre</th>\n",
       "      <th>engagement_post</th>\n",
       "    </tr>\n",
       "  </thead>\n",
       "  <tbody>\n",
       "    <tr>\n",
       "      <th>count</th>\n",
       "      <td>1000.000000</td>\n",
       "      <td>1000.000000</td>\n",
       "      <td>1000.000000</td>\n",
       "      <td>1000.000000</td>\n",
       "      <td>1000.000000</td>\n",
       "      <td>1000.000000</td>\n",
       "    </tr>\n",
       "    <tr>\n",
       "      <th>mean</th>\n",
       "      <td>500.500000</td>\n",
       "      <td>37.944000</td>\n",
       "      <td>49.908087</td>\n",
       "      <td>0.513000</td>\n",
       "      <td>49.859656</td>\n",
       "      <td>52.454100</td>\n",
       "    </tr>\n",
       "    <tr>\n",
       "      <th>std</th>\n",
       "      <td>288.819436</td>\n",
       "      <td>12.328214</td>\n",
       "      <td>9.931322</td>\n",
       "      <td>0.500081</td>\n",
       "      <td>11.072693</td>\n",
       "      <td>12.265754</td>\n",
       "    </tr>\n",
       "    <tr>\n",
       "      <th>min</th>\n",
       "      <td>1.000000</td>\n",
       "      <td>18.000000</td>\n",
       "      <td>11.823360</td>\n",
       "      <td>0.000000</td>\n",
       "      <td>4.688172</td>\n",
       "      <td>3.897113</td>\n",
       "    </tr>\n",
       "    <tr>\n",
       "      <th>25%</th>\n",
       "      <td>250.750000</td>\n",
       "      <td>27.000000</td>\n",
       "      <td>43.401276</td>\n",
       "      <td>0.000000</td>\n",
       "      <td>42.226545</td>\n",
       "      <td>44.217501</td>\n",
       "    </tr>\n",
       "    <tr>\n",
       "      <th>50%</th>\n",
       "      <td>500.500000</td>\n",
       "      <td>37.000000</td>\n",
       "      <td>49.940079</td>\n",
       "      <td>1.000000</td>\n",
       "      <td>49.738285</td>\n",
       "      <td>52.404158</td>\n",
       "    </tr>\n",
       "    <tr>\n",
       "      <th>75%</th>\n",
       "      <td>750.250000</td>\n",
       "      <td>49.000000</td>\n",
       "      <td>56.287265</td>\n",
       "      <td>1.000000</td>\n",
       "      <td>57.012112</td>\n",
       "      <td>60.078499</td>\n",
       "    </tr>\n",
       "    <tr>\n",
       "      <th>max</th>\n",
       "      <td>1000.000000</td>\n",
       "      <td>59.000000</td>\n",
       "      <td>84.661598</td>\n",
       "      <td>1.000000</td>\n",
       "      <td>82.042582</td>\n",
       "      <td>90.772615</td>\n",
       "    </tr>\n",
       "  </tbody>\n",
       "</table>\n",
       "</div>"
      ],
      "text/plain": [
       "           user_id          age  prior_engagement    treatment  \\\n",
       "count  1000.000000  1000.000000       1000.000000  1000.000000   \n",
       "mean    500.500000    37.944000         49.908087     0.513000   \n",
       "std     288.819436    12.328214          9.931322     0.500081   \n",
       "min       1.000000    18.000000         11.823360     0.000000   \n",
       "25%     250.750000    27.000000         43.401276     0.000000   \n",
       "50%     500.500000    37.000000         49.940079     1.000000   \n",
       "75%     750.250000    49.000000         56.287265     1.000000   \n",
       "max    1000.000000    59.000000         84.661598     1.000000   \n",
       "\n",
       "       engagement_pre  engagement_post  \n",
       "count     1000.000000      1000.000000  \n",
       "mean        49.859656        52.454100  \n",
       "std         11.072693        12.265754  \n",
       "min          4.688172         3.897113  \n",
       "25%         42.226545        44.217501  \n",
       "50%         49.738285        52.404158  \n",
       "75%         57.012112        60.078499  \n",
       "max         82.042582        90.772615  "
      ]
     },
     "execution_count": 2,
     "metadata": {},
     "output_type": "execute_result"
    }
   ],
   "source": [
    "# Summary statistics\n",
    "users.describe()"
   ]
  },
  {
   "cell_type": "code",
   "execution_count": 3,
   "id": "d7456bed-1949-49cd-9fe1-1a3ae298f338",
   "metadata": {},
   "outputs": [
    {
     "data": {
      "image/png": "[encoded data removed]",
      "text/plain": [
       "<Figure size 640x480 with 1 Axes>"
      ]
     },
     "metadata": {},
     "output_type": "display_data"
    }
   ],
   "source": [
    "# Distribution of age\n",
    "sns.histplot(users['age'], kde=True)\n",
    "plt.title('Distribution of Age')\n",
    "plt.show()"
   ]
  },
  {
   "cell_type": "code",
   "execution_count": 4,
   "id": "ad89f223-35fc-4de9-a7c3-12f3d6b29974",
   "metadata": {},
   "outputs": [
    {
     "data": {
      "image/png": "[encoded data removed]",
      "text/plain": [
       "<Figure size 1000x500 with 2 Axes>"
      ]
     },
     "metadata": {},
     "output_type": "display_data"
    }
   ],
   "source": [
    "# Create a figure with two subplots\n",
    "fig, axes = plt.subplots(1, 2, figsize=(10, 5))\n",
    "\n",
    "# Engagement Pre-treatment\n",
    "sns.boxplot(x='treatment', y='engagement_pre', data=users, ax=axes[0])\n",
    "axes[0].set_title('Engagement Pre-treatment')\n",
    "\n",
    "# Engagement Post-treatment\n",
    "sns.boxplot(x='treatment', y='engagement_post', data=users, ax=axes[1])\n",
    "axes[1].set_title('Engagement Post-treatment')\n",
    "\n",
    "# Display the plots\n",
    "plt.tight_layout()\n",
    "plt.show()"
   ]
  },
  {
   "cell_type": "markdown",
   "id": "5681ee5e-909a-4f03-a11b-73ff376e71ee",
   "metadata": {},
   "source": [
    "### Propensity Score Matching (PSM)\n",
    "Helps to identify a balanced comparison of users by estimating the probability of a user receiving the treatment based on observed characteristics."
   ]
  },
  {
   "cell_type": "code",
   "execution_count": 5,
   "id": "042559e8-d23a-4e33-8a9b-a6cb4272e5fd",
   "metadata": {},
   "outputs": [
    {
     "data": {
      "text/html": [
       "<div>\n",
       "<style scoped>\n",
       "    .dataframe tbody tr th:only-of-type {\n",
       "        vertical-align: middle;\n",
       "    }\n",
       "\n",
       "    .dataframe tbody tr th {\n",
       "        vertical-align: top;\n",
       "    }\n",
       "\n",
       "    .dataframe thead th {\n",
       "        text-align: right;\n",
       "    }\n",
       "</style>\n",
       "<table border=\"1\" class=\"dataframe\">\n",
       "  <thead>\n",
       "    <tr style=\"text-align: right;\">\n",
       "      <th></th>\n",
       "      <th>user_id</th>\n",
       "      <th>age</th>\n",
       "      <th>prior_engagement</th>\n",
       "      <th>treatment</th>\n",
       "      <th>engagement_pre</th>\n",
       "      <th>engagement_post</th>\n",
       "      <th>gender_Male</th>\n",
       "      <th>region_Asia</th>\n",
       "      <th>region_Europe</th>\n",
       "      <th>region_North America</th>\n",
       "      <th>region_South America</th>\n",
       "    </tr>\n",
       "  </thead>\n",
       "  <tbody>\n",
       "    <tr>\n",
       "      <th>0</th>\n",
       "      <td>1</td>\n",
       "      <td>54</td>\n",
       "      <td>47.825700</td>\n",
       "      <td>1</td>\n",
       "      <td>59.729978</td>\n",
       "      <td>56.164603</td>\n",
       "      <td>False</td>\n",
       "      <td>False</td>\n",
       "      <td>False</td>\n",
       "      <td>False</td>\n",
       "      <td>True</td>\n",
       "    </tr>\n",
       "    <tr>\n",
       "      <th>1</th>\n",
       "      <td>2</td>\n",
       "      <td>49</td>\n",
       "      <td>49.009599</td>\n",
       "      <td>0</td>\n",
       "      <td>41.911780</td>\n",
       "      <td>40.785871</td>\n",
       "      <td>True</td>\n",
       "      <td>False</td>\n",
       "      <td>False</td>\n",
       "      <td>True</td>\n",
       "      <td>False</td>\n",
       "    </tr>\n",
       "  </tbody>\n",
       "</table>\n",
       "</div>"
      ],
      "text/plain": [
       "   user_id  age  prior_engagement  treatment  engagement_pre  engagement_post  \\\n",
       "0        1   54         47.825700          1       59.729978        56.164603   \n",
       "1        2   49         49.009599          0       41.911780        40.785871   \n",
       "\n",
       "   gender_Male  region_Asia  region_Europe  region_North America  \\\n",
       "0        False        False          False                 False   \n",
       "1         True        False          False                  True   \n",
       "\n",
       "   region_South America  \n",
       "0                  True  \n",
       "1                 False  "
      ]
     },
     "execution_count": 5,
     "metadata": {},
     "output_type": "execute_result"
    }
   ],
   "source": [
    "# Encode categorical variables\n",
    "users_encoded = pd.get_dummies(users, columns=['gender', 'region'], drop_first=True)\n",
    "users_encoded.head(2)"
   ]
  },
  {
   "cell_type": "code",
   "execution_count": 6,
   "id": "4ce6928f-883c-426d-9935-9dfd3b36d2a2",
   "metadata": {},
   "outputs": [],
   "source": [
    "# Estimate propensity scores\n",
    "X = users_encoded[['age', 'gender_Male', 'region_Europe', 'region_Asia', 'region_South America', 'prior_engagement']]\n",
    "y = users_encoded['treatment']\n",
    "\n",
    "X_train, X_test, y_train, y_test = train_test_split(X, y, test_size=0.3, random_state=42)\n",
    "log_reg = LogisticRegression()\n",
    "log_reg.fit(X_train, y_train)\n",
    "\n",
    "# Predict propensity scores\n",
    "users['propensity_score'] = log_reg.predict_proba(X)[:, 1]"
   ]
  },
  {
   "cell_type": "code",
   "execution_count": 7,
   "id": "70f0b9ba-d939-419d-9313-4243ebf117e9",
   "metadata": {},
   "outputs": [],
   "source": [
    "# Match users\n",
    "from sklearn.neighbors import NearestNeighbors\n",
    "\n",
    "# Find nearest neighbors based on propensity scores\n",
    "nn = NearestNeighbors(n_neighbors=1)\n",
    "nn.fit(users[users['treatment'] == 0]['propensity_score'].values.reshape(-1, 1))\n",
    "\n",
    "distances, indices = nn.kneighbors(users[users['treatment'] == 1]['propensity_score'].values.reshape(-1, 1))\n",
    "matched_control_indices = users[users['treatment'] == 0].iloc[indices.flatten()].index\n",
    "matched_control = users.loc[matched_control_indices]\n",
    "\n"
   ]
  },
  {
   "cell_type": "code",
   "execution_count": 8,
   "id": "317be486-5e4d-4774-8cd8-66dce10ba557",
   "metadata": {},
   "outputs": [
    {
     "data": {
      "image/png": "[encoded data removed]",
      "text/plain": [
       "<Figure size 640x480 with 1 Axes>"
      ]
     },
     "metadata": {},
     "output_type": "display_data"
    },
    {
     "data": {
      "image/png": "[encoded data removed]",
      "text/plain": [
       "<Figure size 640x480 with 1 Axes>"
      ]
     },
     "metadata": {},
     "output_type": "display_data"
    }
   ],
   "source": [
    "# Create matched sample\n",
    "matched_treatment = users[users['treatment'] == 1]\n",
    "matched_sample = pd.concat([matched_treatment, matched_control])\n",
    "\n",
    "# Check balance\n",
    "for col in ['age', 'prior_engagement']:\n",
    "    sns.boxplot(x='treatment', y=col, data=matched_sample)\n",
    "    plt.title(f'Balance Check: {col}')\n",
    "    plt.show()"
   ]
  },
  {
   "cell_type": "markdown",
   "id": "61f59823-8f81-48b8-91f9-aeb7f88d6998",
   "metadata": {},
   "source": [
    "This check balance stage is crucial This step is crucial because it helps mitigate the risk of bias due to confounding variables, ensuring that any differences observed in outcomes can be more confidently attributed to the treatment (new feature) rather than to pre-existing differences between groups."
   ]
  },
  {
   "cell_type": "markdown",
   "id": "0484ce56-f197-4b0c-b4b1-8002abe517ec",
   "metadata": {},
   "source": [
    "### Diff-in-Diff Analysis\n",
    "A statistical technique used to estimate the causal effect of a treatment or intervention by comparing the changes in outcomes over time between a treatment group and a control group."
   ]
  },
  {
   "cell_type": "code",
   "execution_count": 9,
   "id": "101b29f3-f05e-45c3-85c1-0ae308e8023d",
   "metadata": {},
   "outputs": [
    {
     "name": "stdout",
     "output_type": "stream",
     "text": [
      "Diff-in-Diff Estimator: 5.437427093535982\n"
     ]
    }
   ],
   "source": [
    "# Calculate pre-post differences\n",
    "matched_sample['engagement_diff'] = matched_sample['engagement_post'] - matched_sample['engagement_pre']\n",
    "\n",
    "# Calculate DiD estimator\n",
    "did_estimator = matched_sample[matched_sample['treatment'] == 1]['engagement_diff'].mean() - matched_sample[matched_sample['treatment'] == 0]['engagement_diff'].mean()\n",
    "\n",
    "print(f'Diff-in-Diff Estimator: {did_estimator}')\n"
   ]
  },
  {
   "cell_type": "markdown",
   "id": "4e4c694d-fd84-4819-89e4-8dca1e646db2",
   "metadata": {},
   "source": [
    "### Matched Pairs Analysis\n",
    "Matched Pairs is a method of pairing treated and control units that are similar in terms of observed characteristics to reduce confounding bias in causal inference."
   ]
  },
  {
   "cell_type": "code",
   "execution_count": 10,
   "id": "ecc4cb3e-62a4-4398-b56b-90999d019474",
   "metadata": {},
   "outputs": [],
   "source": [
    "# Pair users within the matched sample\n",
    "matched_pairs = matched_sample.groupby('propensity_score').apply(lambda x: x.sample(n=2, replace=True))\n",
    "# Reset index to avoid ambiguity\n",
    "matched_pairs = matched_pairs.reset_index(drop=True)"
   ]
  },
  {
   "cell_type": "code",
   "execution_count": 11,
   "id": "691825de-2567-4228-8a15-3a770a95b6f3",
   "metadata": {},
   "outputs": [],
   "source": [
    "# Compare engagement levels within pairs\n",
    "pairwise_diffs = matched_pairs.groupby('propensity_score').apply(lambda x: x.iloc[0]['engagement_post'] - x.iloc[1]['engagement_post'])\n",
    "# Estimate treatment effect\n",
    "treatment_effect = pairwise_diffs.mean()"
   ]
  },
  {
   "cell_type": "code",
   "execution_count": 14,
   "id": "c59c680d-0d9f-4a3e-a584-af4ce9aef80b",
   "metadata": {},
   "outputs": [
    {
     "name": "stdout",
     "output_type": "stream",
     "text": [
      "Matched Pairs Treatment Effect: 1.23\n"
     ]
    }
   ],
   "source": [
    "print(f'Matched Pairs Treatment Effect: {treatment_effect}')"
   ]
  }
 ],
 "metadata": {
  "kernelspec": {
   "display_name": "Python 3 (ipykernel)",
   "language": "python",
   "name": "python3"
  },
  "language_info": {
   "codemirror_mode": {
    "name": "ipython",
    "version": 3
   },
   "file_extension": ".py",
   "mimetype": "text/x-python",
   "name": "python",
   "nbconvert_exporter": "python",
   "pygments_lexer": "ipython3",
   "version": "3.12.1"
  }
 },
 "nbformat": 4,
 "nbformat_minor": 5
}
