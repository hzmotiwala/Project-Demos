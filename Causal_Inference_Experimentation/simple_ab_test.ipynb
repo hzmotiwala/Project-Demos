{
 "cells": [
  {
   "cell_type": "markdown",
   "id": "43d99769-fc9c-48a8-942d-43a40e12d01f",
   "metadata": {},
   "source": [
    "### Simple AB Test"
   ]
  },
  {
   "cell_type": "code",
   "execution_count": 1,
   "id": "ee63e807-cb92-4bea-9e68-f1b024fe01c7",
   "metadata": {},
   "outputs": [],
   "source": [
    "import numpy as np\n",
    "import pandas as pd\n",
    "from scipy import stats\n",
    "import math\n",
    "import matplotlib.pyplot as plt"
   ]
  },
  {
   "cell_type": "markdown",
   "id": "d844481f-9328-4405-82f8-1813bda78e84",
   "metadata": {},
   "source": [
    "### Step 1: Visualize Data"
   ]
  },
  {
   "cell_type": "code",
   "execution_count": 2,
   "id": "633942c8-5072-4d29-b991-d749e1a11426",
   "metadata": {},
   "outputs": [],
   "source": [
    "# Let's assume we have 1000 users for control and 1000 for treatment\n",
    "n_control = 1000\n",
    "n_treatment = 1000\n",
    "\n",
    "# Simulate conversion rates\n",
    "conversion_rate_control = 0.1\n",
    "conversion_rate_treatment = 0.12  # we expect a 2% increase\n",
    "\n",
    "# Generate data\n",
    "control = np.random.binomial(1, conversion_rate_control, n_control)\n",
    "treatment = np.random.binomial(1, conversion_rate_treatment, n_treatment)\n",
    "\n",
    "# Create DataFrame\n",
    "df = pd.DataFrame({\n",
    "    'group': ['control']*n_control + ['treatment']*n_treatment,\n",
    "    'converted': np.concatenate([control, treatment])\n",
    "})"
   ]
  },
  {
   "cell_type": "code",
   "execution_count": 3,
   "id": "b877d8e8-abf1-4717-a6d0-5135a85f56d9",
   "metadata": {},
   "outputs": [
    {
     "data": {
      "text/html": [
       "<div>\n",
       "<style scoped>\n",
       "    .dataframe tbody tr th:only-of-type {\n",
       "        vertical-align: middle;\n",
       "    }\n",
       "\n",
       "    .dataframe tbody tr th {\n",
       "        vertical-align: top;\n",
       "    }\n",
       "\n",
       "    .dataframe thead th {\n",
       "        text-align: right;\n",
       "    }\n",
       "</style>\n",
       "<table border=\"1\" class=\"dataframe\">\n",
       "  <thead>\n",
       "    <tr style=\"text-align: right;\">\n",
       "      <th></th>\n",
       "      <th>group</th>\n",
       "      <th>converted</th>\n",
       "    </tr>\n",
       "  </thead>\n",
       "  <tbody>\n",
       "    <tr>\n",
       "      <th>0</th>\n",
       "      <td>control</td>\n",
       "      <td>0</td>\n",
       "    </tr>\n",
       "    <tr>\n",
       "      <th>1</th>\n",
       "      <td>control</td>\n",
       "      <td>0</td>\n",
       "    </tr>\n",
       "    <tr>\n",
       "      <th>2</th>\n",
       "      <td>control</td>\n",
       "      <td>0</td>\n",
       "    </tr>\n",
       "    <tr>\n",
       "      <th>3</th>\n",
       "      <td>control</td>\n",
       "      <td>0</td>\n",
       "    </tr>\n",
       "    <tr>\n",
       "      <th>4</th>\n",
       "      <td>control</td>\n",
       "      <td>0</td>\n",
       "    </tr>\n",
       "  </tbody>\n",
       "</table>\n",
       "</div>"
      ],
      "text/plain": [
       "     group  converted\n",
       "0  control          0\n",
       "1  control          0\n",
       "2  control          0\n",
       "3  control          0\n",
       "4  control          0"
      ]
     },
     "execution_count": 3,
     "metadata": {},
     "output_type": "execute_result"
    }
   ],
   "source": [
    "df.head()"
   ]
  },
  {
   "cell_type": "code",
   "execution_count": 4,
   "id": "54c780f3-237d-4974-9e67-3512491f8a27",
   "metadata": {},
   "outputs": [
    {
     "data": {
      "text/html": [
       "<div>\n",
       "<style scoped>\n",
       "    .dataframe tbody tr th:only-of-type {\n",
       "        vertical-align: middle;\n",
       "    }\n",
       "\n",
       "    .dataframe tbody tr th {\n",
       "        vertical-align: top;\n",
       "    }\n",
       "\n",
       "    .dataframe thead tr th {\n",
       "        text-align: left;\n",
       "    }\n",
       "\n",
       "    .dataframe thead tr:last-of-type th {\n",
       "        text-align: right;\n",
       "    }\n",
       "</style>\n",
       "<table border=\"1\" class=\"dataframe\">\n",
       "  <thead>\n",
       "    <tr>\n",
       "      <th></th>\n",
       "      <th colspan=\"8\" halign=\"left\">converted</th>\n",
       "    </tr>\n",
       "    <tr>\n",
       "      <th></th>\n",
       "      <th>count</th>\n",
       "      <th>mean</th>\n",
       "      <th>std</th>\n",
       "      <th>min</th>\n",
       "      <th>25%</th>\n",
       "      <th>50%</th>\n",
       "      <th>75%</th>\n",
       "      <th>max</th>\n",
       "    </tr>\n",
       "    <tr>\n",
       "      <th>group</th>\n",
       "      <th></th>\n",
       "      <th></th>\n",
       "      <th></th>\n",
       "      <th></th>\n",
       "      <th></th>\n",
       "      <th></th>\n",
       "      <th></th>\n",
       "      <th></th>\n",
       "    </tr>\n",
       "  </thead>\n",
       "  <tbody>\n",
       "    <tr>\n",
       "      <th>control</th>\n",
       "      <td>1000.0</td>\n",
       "      <td>0.089</td>\n",
       "      <td>0.284886</td>\n",
       "      <td>0.0</td>\n",
       "      <td>0.0</td>\n",
       "      <td>0.0</td>\n",
       "      <td>0.0</td>\n",
       "      <td>1.0</td>\n",
       "    </tr>\n",
       "    <tr>\n",
       "      <th>treatment</th>\n",
       "      <td>1000.0</td>\n",
       "      <td>0.126</td>\n",
       "      <td>0.332015</td>\n",
       "      <td>0.0</td>\n",
       "      <td>0.0</td>\n",
       "      <td>0.0</td>\n",
       "      <td>0.0</td>\n",
       "      <td>1.0</td>\n",
       "    </tr>\n",
       "  </tbody>\n",
       "</table>\n",
       "</div>"
      ],
      "text/plain": [
       "          converted                                          \n",
       "              count   mean       std  min  25%  50%  75%  max\n",
       "group                                                        \n",
       "control      1000.0  0.089  0.284886  0.0  0.0  0.0  0.0  1.0\n",
       "treatment    1000.0  0.126  0.332015  0.0  0.0  0.0  0.0  1.0"
      ]
     },
     "execution_count": 4,
     "metadata": {},
     "output_type": "execute_result"
    }
   ],
   "source": [
    "df.groupby('group').describe()"
   ]
  },
  {
   "cell_type": "code",
   "execution_count": 5,
   "id": "8cb30c2c-a25a-46cd-802c-cfb91923c106",
   "metadata": {},
   "outputs": [
    {
     "data": {
      "image/png": "[encoded data removed]",
      "text/plain": [
       "<Figure size 640x480 with 1 Axes>"
      ]
     },
     "metadata": {},
     "output_type": "display_data"
    }
   ],
   "source": [
    "# Calculate conversion rates\n",
    "conversion_rates = df.groupby('group')['converted'].mean()\n",
    "\n",
    "# Plotting\n",
    "conversion_rates.plot(kind='bar', color=['gray', 'lightblue'], alpha=0.9)\n",
    "plt.title('Conversion Rates by Group')\n",
    "plt.xlabel('Group')\n",
    "plt.ylabel('Conversion Rate (%)')\n",
    "plt.xticks(rotation=0)\n",
    "plt.tight_layout()\n",
    "plt.show()"
   ]
  },
  {
   "cell_type": "markdown",
   "id": "dbd162c9-5180-46a6-a0ef-560ae84bc998",
   "metadata": {},
   "source": [
    "### Step 2: Calculate Sample Size"
   ]
  },
  {
   "cell_type": "code",
   "execution_count": 6,
   "id": "f8fa120b-387e-48f1-b431-b9fd5d569a2c",
   "metadata": {},
   "outputs": [
    {
     "name": "stdout",
     "output_type": "stream",
     "text": [
      "Required sample size per group: 3843\n"
     ]
    }
   ],
   "source": [
    "def calculate_sample_size(p1, p2, alpha=0.05, power=0.8):\n",
    "    p = (p1 + p2) / 2\n",
    "    z_alpha = stats.norm.ppf(1 - alpha / 2)\n",
    "    z_beta = stats.norm.ppf(power)\n",
    "    sample_size = (2 * p * (1 - p) * (z_alpha + z_beta)**2) / (p1 - p2)**2\n",
    "    return math.ceil(sample_size)\n",
    "\n",
    "# Assuming a baseline conversion rate of 10% and MDE of 2%\n",
    "baseline_rate = 0.1\n",
    "mde = 0.02\n",
    "alpha = 0.05\n",
    "power = 0.8\n",
    "\n",
    "required_sample_size = calculate_sample_size(baseline_rate, baseline_rate + mde, alpha, power)\n",
    "print(f\"Required sample size per group: {required_sample_size}\")"
   ]
  },
  {
   "cell_type": "markdown",
   "id": "55b5006a-6763-4849-b30a-e498c4e5fffe",
   "metadata": {},
   "source": [
    "### Step 3: Run A/B Test"
   ]
  },
  {
   "cell_type": "code",
   "execution_count": 7,
   "id": "e740e452-3578-4a6d-b5d9-ac0fee0874dd",
   "metadata": {},
   "outputs": [
    {
     "name": "stdout",
     "output_type": "stream",
     "text": [
      "Control conversion rate: 0.0890\n",
      "Treatment conversion rate: 0.1260\n",
      "T-statistic: -2.6745, P-value: 0.0075\n"
     ]
    }
   ],
   "source": [
    "# Calculate conversion rates\n",
    "conversion_control = df[df['group'] == 'control']['converted'].mean()\n",
    "conversion_treatment = df[df['group'] == 'treatment']['converted'].mean()\n",
    "\n",
    "# Perform 2-sample t-test\n",
    "t_stat, p_value = stats.ttest_ind(df[df['group'] == 'control']['converted'],\n",
    "                                  df[df['group'] == 'treatment']['converted'])\n",
    "\n",
    "print(f\"Control conversion rate: {conversion_control:.4f}\")\n",
    "print(f\"Treatment conversion rate: {conversion_treatment:.4f}\")\n",
    "print(f\"T-statistic: {t_stat:.4f}, P-value: {p_value:.4f}\")"
   ]
  },
  {
   "cell_type": "markdown",
   "id": "70dc46a3-32ba-4045-9e89-22a621cc0a82",
   "metadata": {},
   "source": [
    "### Step 4: Check for Statistical Significance"
   ]
  },
  {
   "cell_type": "code",
   "execution_count": 8,
   "id": "b2cfe672-8a1f-4d32-90b7-95d32641d5b2",
   "metadata": {},
   "outputs": [
    {
     "name": "stdout",
     "output_type": "stream",
     "text": [
      "The result is statistically significant.\n",
      "stat-sig threshold:  0.05\n",
      "P-value:  0.007545841459629015\n"
     ]
    }
   ],
   "source": [
    "if p_value < alpha:\n",
    "    print(\"The result is statistically significant.\")\n",
    "else:\n",
    "    print(\"The result is not statistically significant.\")\n",
    "print(\"stat-sig threshold: \", alpha)\n",
    "print(\"P-value: \", p_value)"
   ]
  },
  {
   "cell_type": "markdown",
   "id": "0c333b60-13a2-4b3b-80c1-b6c7d2086861",
   "metadata": {},
   "source": [
    "### Step 5: Check for Practical Significance"
   ]
  },
  {
   "cell_type": "code",
   "execution_count": 9,
   "id": "db097584-22d0-400b-a285-f1a3f9982bea",
   "metadata": {},
   "outputs": [
    {
     "name": "stdout",
     "output_type": "stream",
     "text": [
      "Observed effect size: 0.0370\n",
      "The result is practically significant.\n"
     ]
    }
   ],
   "source": [
    "# Define the practical significance threshold\n",
    "practical_threshold = mde\n",
    "\n",
    "# Calculate the observed effect size\n",
    "observed_effect = conversion_treatment - conversion_control\n",
    "print(f\"Observed effect size: {observed_effect:.4f}\")\n",
    "\n",
    "if observed_effect >= practical_threshold:\n",
    "    print(\"The result is practically significant.\")\n",
    "else:\n",
    "    print(\"The result is not practically significant.\")"
   ]
  }
 ],
 "metadata": {
  "kernelspec": {
   "display_name": "Python 3 (ipykernel)",
   "language": "python",
   "name": "python3"
  },
  "language_info": {
   "codemirror_mode": {
    "name": "ipython",
    "version": 3
   },
   "file_extension": ".py",
   "mimetype": "text/x-python",
   "name": "python",
   "nbconvert_exporter": "python",
   "pygments_lexer": "ipython3",
   "version": "3.12.1"
  }
 },
 "nbformat": 4,
 "nbformat_minor": 5
}
